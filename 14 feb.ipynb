{
 "cells": [
  {
   "cell_type": "code",
   "execution_count": null,
   "id": "c4e043f6-7caa-44a1-b747-a3c192fbbca1",
   "metadata": {},
   "outputs": [],
   "source": [
    "Multithreading in Python is the ability to run multiple threads of execution concurrently. Threads are lightweight processes that can be used to perform tasks in parallel, allowing a program to run faster and more efficiently. The threading module in Python provides a simple and intuitive interface for working with threads. It allows you to create, manage, and synchronize threads, as well as share data between them. Multithreading is used to improve the performance of programs by utilizing multiple cores of a CPU or multiple CPUs. It is also used to make programs more responsive by allowing tasks to run in the background while the main thread continues execution.\n"
   ]
  },
  {
   "cell_type": "code",
   "execution_count": null,
   "id": "44481f30-5818-43a2-8030-d46600be05d9",
   "metadata": {},
   "outputs": [],
   "source": [
    "activeCount(): This function returns the number of active Thread objects associated with the current thread.\n",
    "currentThread(): This function returns a reference to the current thread instance.\n",
    "enumerate(): This function returns a list of all active Thread objects associated with the current thread."
   ]
  },
  {
   "cell_type": "code",
   "execution_count": null,
   "id": "24a0a5fa-be3e-4a82-8176-ac7a7ef77229",
   "metadata": {},
   "outputs": [],
   "source": [
    "run() - The run() function is used to start a thread in a program. It is the main entry point for a thread and is used to execute the code that is contained within the thread.\n",
    "start() - The start() function is used to start a thread in a program. It is responsible for initializing the thread and calling the run() method of the thread.\n",
    "join() - The join() function is used to wait for a thread to complete its execution. It blocks the calling thread until the thread whose join() method is called terminates.\n",
    "isAlive() - The isAlive() function is used to check if a thread is still running or not. It returns true if the thread is still running and false if it has already terminated."
   ]
  },
  {
   "cell_type": "code",
   "execution_count": null,
   "id": "36e7a74c-2f1b-4609-b64d-f806dc4f9cc5",
   "metadata": {},
   "outputs": [],
   "source": [
    "import threading\n",
    "\n",
    "import time\n",
    "\n",
    "\n",
    "def square():\n",
    "\n",
    "for i in range(1, 11):\n",
    "\n",
    "time.sleep(1)\n",
    "\n",
    "print(i*i)\n",
    "\n",
    "\n",
    "def cube():\n",
    "\n",
    "for i in range(1, 11):\n",
    "\n",
    "time.sleep(1)\n",
    "\n",
    "print(iii)\n",
    "\n",
    "\n",
    "if name == \"main\":\n",
    "\n",
    "t1 = threading.Thread(target=square)\n",
    "\n",
    "t2 = threading.Thread(target=cube)"
   ]
  },
  {
   "cell_type": "code",
   "execution_count": null,
   "id": "d5edc691-3066-4896-bb63-dddbc20aa356",
   "metadata": {},
   "outputs": [],
   "source": [
    "Advantages:\n",
    "\n",
    "\n",
    "Improved performance: Multithreading allows multiple threads to exist within the context of a single process, which means multiple tasks can be executed concurrently. This helps improve the overall performance of the system.\n",
    "Resource sharing: Threads share the same address space, which means that all threads can access the same data. This makes it easier to share information between threads and makes communication between threads simpler.\n",
    "Responsiveness: Multithreading helps improve the responsiveness of an application by allowing multiple threads to run concurrently. This allows one thread to handle user input while another thread performs background tasks.\n",
    "\n",
    "Disadvantages:\n",
    "\n",
    "\n",
    "Complexity: Multithreading can add complexity to an application, as it requires careful coordination between threads to ensure that they are all working together correctly.\n",
    "Overhead: Multithreading can also add overhead, as each thread requires its own stack and resources. This can lead to increased memory usage and decreased performance.\n",
    "Race conditions: Race conditions can occur when multiple threads try to access and modify shared data at the same time, leading to unpredictable results.\n"
   ]
  },
  {
   "cell_type": "code",
   "execution_count": null,
   "id": "fbf9383f-2e11-4b64-8617-cdea9a59d61c",
   "metadata": {},
   "outputs": [],
   "source": [
    "Deadlocks: A deadlock is a situation in which two or more competing actions are each waiting for the other to finish, and thus neither ever does. Deadlocks can occur in a variety of situations, including computer operating systems, database systems, and banking systems.\n",
    "\n",
    "\n",
    "Race Conditions: A race condition is a situation in which the output of a program or system depends on the sequence or timing of other events. Race conditions can occur when two or more threads are reading and writing shared data at the same time, and the outcome of the program depends on which thread performs the operations first."
   ]
  }
 ],
 "metadata": {
  "kernelspec": {
   "display_name": "Python 3 (ipykernel)",
   "language": "python",
   "name": "python3"
  },
  "language_info": {
   "codemirror_mode": {
    "name": "ipython",
    "version": 3
   },
   "file_extension": ".py",
   "mimetype": "text/x-python",
   "name": "python",
   "nbconvert_exporter": "python",
   "pygments_lexer": "ipython3",
   "version": "3.10.8"
  }
 },
 "nbformat": 4,
 "nbformat_minor": 5
}
